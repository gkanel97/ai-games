{
 "cells": [
  {
   "cell_type": "code",
   "execution_count": 1,
   "metadata": {},
   "outputs": [],
   "source": [
    "from tqdm import tqdm\n",
    "from TicTacToeGame import TicTacToeGame\n",
    "from TicTacToeRandomSolver import TicTacToeRandomSolver\n",
    "from TicTacToeQLearningSolver import TicTacToeQLearningSolver"
   ]
  },
  {
   "cell_type": "code",
   "execution_count": 2,
   "metadata": {},
   "outputs": [],
   "source": [
    "def evaluate_agent(game_instance, agent, opponent):\n",
    "    agent.in_training = False\n",
    "    scores = {'X': 0, 'O': 0, 'tie': 0}\n",
    "    for i in range(1000):\n",
    "        while not game_instance.is_gameover():\n",
    "            if game_instance.player_X_turns:\n",
    "                agent.take_turn()\n",
    "            else:\n",
    "                opponent.take_turn()\n",
    "        if game_instance.X_wins:\n",
    "            scores['X'] += 1\n",
    "        elif game_instance.O_wins:\n",
    "            scores['O'] += 1\n",
    "        else:\n",
    "            scores['tie'] += 1\n",
    "        game_instance.play_again()\n",
    "    return scores\n"
   ]
  },
  {
   "cell_type": "code",
   "execution_count": 3,
   "metadata": {},
   "outputs": [],
   "source": [
    "def train_agent(agent, episodes_range):\n",
    "    agent.in_training = True\n",
    "    agent.train(episodes_range)"
   ]
  },
  {
   "cell_type": "code",
   "execution_count": 4,
   "metadata": {},
   "outputs": [
    {
     "name": "stderr",
     "output_type": "stream",
     "text": [
      "Total Progress: 100%|██████████| 625/625 [32:57<00:00,  3.16s/it]   \n"
     ]
    }
   ],
   "source": [
    "learning_rate_arr = [0.1, 0.3, 0.5, 0.7, 0.9]\n",
    "discount_factor_arr = [0.1, 0.3, 0.5, 0.7, 0.9]\n",
    "exploration_rate_arr = [0.1, 0.3, 0.5, 0.7, 0.9]\n",
    "decay_rate_arr = [1e-6, 1e-5, 1e-4, 1e-3, 1e-2]\n",
    "scores_arr = []\n",
    "\n",
    "total_iterations = len(learning_rate_arr) * len(discount_factor_arr) * len(exploration_rate_arr) * len(decay_rate_arr)\n",
    "pbar = tqdm(total=total_iterations, desc='Total Progress')\n",
    "\n",
    "for learning_rate in learning_rate_arr:\n",
    "    for discount_factor in discount_factor_arr:\n",
    "        for exploration_rate in exploration_rate_arr:\n",
    "            for decay_rate in decay_rate_arr:\n",
    "                game_instance = TicTacToeGame()\n",
    "                agent = TicTacToeQLearningSolver(game_instance, learning_rate, discount_factor, exploration_rate, decay_rate)\n",
    "                opponent = TicTacToeRandomSolver(game_instance)\n",
    "                train_agent(agent, range(1000))\n",
    "                scores = evaluate_agent(game_instance, agent, opponent)\n",
    "                scores_arr.append((learning_rate, discount_factor, exploration_rate, decay_rate, scores['X'], scores['O'], scores['tie']))\n",
    "                pbar.update(1)\n",
    "pbar.close()"
   ]
  },
  {
   "cell_type": "code",
   "execution_count": 5,
   "metadata": {},
   "outputs": [
    {
     "data": {
      "text/html": [
       "<div>\n",
       "<style scoped>\n",
       "    .dataframe tbody tr th:only-of-type {\n",
       "        vertical-align: middle;\n",
       "    }\n",
       "\n",
       "    .dataframe tbody tr th {\n",
       "        vertical-align: top;\n",
       "    }\n",
       "\n",
       "    .dataframe thead th {\n",
       "        text-align: right;\n",
       "    }\n",
       "</style>\n",
       "<table border=\"1\" class=\"dataframe\">\n",
       "  <thead>\n",
       "    <tr style=\"text-align: right;\">\n",
       "      <th></th>\n",
       "      <th>learning_rate</th>\n",
       "      <th>discount_factor</th>\n",
       "      <th>exploration_rate</th>\n",
       "      <th>decay_rate</th>\n",
       "      <th>X_wins</th>\n",
       "      <th>O_wins</th>\n",
       "      <th>ties</th>\n",
       "    </tr>\n",
       "  </thead>\n",
       "  <tbody>\n",
       "    <tr>\n",
       "      <th>10</th>\n",
       "      <td>0.1</td>\n",
       "      <td>0.1</td>\n",
       "      <td>0.5</td>\n",
       "      <td>0.000001</td>\n",
       "      <td>687</td>\n",
       "      <td>246</td>\n",
       "      <td>67</td>\n",
       "    </tr>\n",
       "    <tr>\n",
       "      <th>81</th>\n",
       "      <td>0.1</td>\n",
       "      <td>0.7</td>\n",
       "      <td>0.3</td>\n",
       "      <td>0.000010</td>\n",
       "      <td>686</td>\n",
       "      <td>245</td>\n",
       "      <td>69</td>\n",
       "    </tr>\n",
       "    <tr>\n",
       "      <th>50</th>\n",
       "      <td>0.1</td>\n",
       "      <td>0.5</td>\n",
       "      <td>0.1</td>\n",
       "      <td>0.000001</td>\n",
       "      <td>685</td>\n",
       "      <td>244</td>\n",
       "      <td>71</td>\n",
       "    </tr>\n",
       "    <tr>\n",
       "      <th>300</th>\n",
       "      <td>0.5</td>\n",
       "      <td>0.5</td>\n",
       "      <td>0.1</td>\n",
       "      <td>0.000001</td>\n",
       "      <td>682</td>\n",
       "      <td>240</td>\n",
       "      <td>78</td>\n",
       "    </tr>\n",
       "    <tr>\n",
       "      <th>387</th>\n",
       "      <td>0.7</td>\n",
       "      <td>0.1</td>\n",
       "      <td>0.5</td>\n",
       "      <td>0.000100</td>\n",
       "      <td>680</td>\n",
       "      <td>268</td>\n",
       "      <td>52</td>\n",
       "    </tr>\n",
       "  </tbody>\n",
       "</table>\n",
       "</div>"
      ],
      "text/plain": [
       "     learning_rate  discount_factor  exploration_rate  decay_rate  X_wins  \\\n",
       "10             0.1              0.1               0.5    0.000001     687   \n",
       "81             0.1              0.7               0.3    0.000010     686   \n",
       "50             0.1              0.5               0.1    0.000001     685   \n",
       "300            0.5              0.5               0.1    0.000001     682   \n",
       "387            0.7              0.1               0.5    0.000100     680   \n",
       "\n",
       "     O_wins  ties  \n",
       "10      246    67  \n",
       "81      245    69  \n",
       "50      244    71  \n",
       "300     240    78  \n",
       "387     268    52  "
      ]
     },
     "execution_count": 5,
     "metadata": {},
     "output_type": "execute_result"
    }
   ],
   "source": [
    "# Turn scores_arr into a dataframe\n",
    "import pandas as pd\n",
    "df = pd.DataFrame(scores_arr, columns=['learning_rate', 'discount_factor', 'exploration_rate', 'decay_rate', 'X_wins', 'O_wins', 'ties'])\n",
    "\n",
    "# Sort by X_wins\n",
    "df = df.sort_values(by='X_wins', ascending=False)\n",
    "\n",
    "# Save to csv\n",
    "df.to_csv('q_learning_results.csv', index=False)\n",
    "\n",
    "df.head()"
   ]
  },
  {
   "cell_type": "code",
   "execution_count": 9,
   "metadata": {},
   "outputs": [],
   "source": [
    "# Create a game instance\n",
    "game_instance = TicTacToeGame(use_gui=False)\n",
    "\n",
    "# Q-learning player plays against random player\n",
    "q_learning_instance = TicTacToeQLearningSolver(game_instance)\n",
    "random_opponent = TicTacToeRandomSolver(game_instance)"
   ]
  },
  {
   "cell_type": "code",
   "execution_count": 10,
   "metadata": {},
   "outputs": [
    {
     "name": "stderr",
     "output_type": "stream",
     "text": [
      "  0%|          | 0/1000 [00:00<?, ?it/s]"
     ]
    },
    {
     "name": "stderr",
     "output_type": "stream",
     "text": [
      "100%|██████████| 1000/1000 [00:01<00:00, 884.79it/s]\n"
     ]
    },
    {
     "name": "stdout",
     "output_type": "stream",
     "text": [
      "Q-learning vs Random - Game 0: X wins: 0, O wins: 1000, tie: 0\n"
     ]
    },
    {
     "name": "stderr",
     "output_type": "stream",
     "text": [
      "100%|██████████| 1000/1000 [00:00<00:00, 1000.92it/s]\n"
     ]
    },
    {
     "name": "stdout",
     "output_type": "stream",
     "text": [
      "Q-learning vs Random - Game 1: X wins: 1000, O wins: 0, tie: 0\n"
     ]
    },
    {
     "name": "stderr",
     "output_type": "stream",
     "text": [
      "100%|██████████| 1000/1000 [00:00<00:00, 1670.94it/s]\n"
     ]
    },
    {
     "name": "stdout",
     "output_type": "stream",
     "text": [
      "Q-learning vs Random - Game 2: X wins: 1000, O wins: 0, tie: 0\n"
     ]
    },
    {
     "name": "stderr",
     "output_type": "stream",
     "text": [
      "100%|██████████| 1000/1000 [00:00<00:00, 1817.38it/s]\n"
     ]
    },
    {
     "name": "stdout",
     "output_type": "stream",
     "text": [
      "Q-learning vs Random - Game 3: X wins: 0, O wins: 1000, tie: 0\n"
     ]
    },
    {
     "name": "stderr",
     "output_type": "stream",
     "text": [
      "100%|██████████| 1000/1000 [00:00<00:00, 1606.36it/s]\n"
     ]
    },
    {
     "name": "stdout",
     "output_type": "stream",
     "text": [
      "Q-learning vs Random - Game 4: X wins: 1000, O wins: 0, tie: 0\n"
     ]
    },
    {
     "name": "stderr",
     "output_type": "stream",
     "text": [
      "100%|██████████| 1000/1000 [00:00<00:00, 2144.90it/s]\n"
     ]
    },
    {
     "name": "stdout",
     "output_type": "stream",
     "text": [
      "Q-learning vs Random - Game 5: X wins: 1000, O wins: 0, tie: 0\n"
     ]
    },
    {
     "name": "stderr",
     "output_type": "stream",
     "text": [
      "100%|██████████| 1000/1000 [00:00<00:00, 2294.46it/s]\n"
     ]
    },
    {
     "name": "stdout",
     "output_type": "stream",
     "text": [
      "Q-learning vs Random - Game 6: X wins: 1000, O wins: 0, tie: 0\n"
     ]
    },
    {
     "name": "stderr",
     "output_type": "stream",
     "text": [
      "100%|██████████| 1000/1000 [00:00<00:00, 2230.92it/s]\n"
     ]
    },
    {
     "name": "stdout",
     "output_type": "stream",
     "text": [
      "Q-learning vs Random - Game 7: X wins: 1000, O wins: 0, tie: 0\n"
     ]
    },
    {
     "name": "stderr",
     "output_type": "stream",
     "text": [
      "100%|██████████| 1000/1000 [00:00<00:00, 2079.01it/s]\n"
     ]
    },
    {
     "name": "stdout",
     "output_type": "stream",
     "text": [
      "Q-learning vs Random - Game 8: X wins: 1000, O wins: 0, tie: 0\n"
     ]
    },
    {
     "name": "stderr",
     "output_type": "stream",
     "text": [
      "100%|██████████| 1000/1000 [00:00<00:00, 1490.76it/s]\n"
     ]
    },
    {
     "name": "stdout",
     "output_type": "stream",
     "text": [
      "Q-learning vs Random - Game 9: X wins: 1000, O wins: 0, tie: 0\n"
     ]
    }
   ],
   "source": [
    "untrained_scores = evaluate_agent(game_instance, q_learning_instance, random_opponent)\n",
    "scores_history = [untrained_scores]\n",
    "for i in range(10):\n",
    "    train_episodes = 10000\n",
    "    train_agent(q_learning_instance, episodes_range=range(i*train_episodes, (i+1)*train_episodes))\n",
    "    scores = evaluate_agent(game_instance, q_learning_instance, random_opponent)\n",
    "    scores_history.append(scores)\n",
    "    print('Q-learning vs Random - Game {}: X wins: {}, O wins: {}, tie: {}'.format(i, scores['X'], scores['O'], scores['tie']))"
   ]
  },
  {
   "cell_type": "code",
   "execution_count": 7,
   "metadata": {},
   "outputs": [
    {
     "data": {
      "text/plain": [
       "[{'X': 1000, 'O': 0, 'tie': 0}]"
      ]
     },
     "execution_count": 7,
     "metadata": {},
     "output_type": "execute_result"
    }
   ],
   "source": [
    "scores_history"
   ]
  }
 ],
 "metadata": {
  "kernelspec": {
   "display_name": "base",
   "language": "python",
   "name": "python3"
  },
  "language_info": {
   "codemirror_mode": {
    "name": "ipython",
    "version": 3
   },
   "file_extension": ".py",
   "mimetype": "text/x-python",
   "name": "python",
   "nbconvert_exporter": "python",
   "pygments_lexer": "ipython3",
   "version": "3.11.5"
  }
 },
 "nbformat": 4,
 "nbformat_minor": 2
}
